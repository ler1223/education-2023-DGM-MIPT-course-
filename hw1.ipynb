{
  "cells": [
    {
      "cell_type": "markdown",
      "metadata": {
        "id": "5rUp2xWkdGFu"
      },
      "source": [
        "# Homework 1: Autoregressive models"
      ]
    },
    {
      "cell_type": "markdown",
      "metadata": {
        "id": "B0w70vkwZ-tw"
      },
      "source": [
        "## Task 1: Theory (4pt)"
      ]
    },
    {
      "cell_type": "markdown",
      "metadata": {
        "id": "QLGp4c5UPByO"
      },
      "source": [
        "### Problem 1: Sampling from KDE (1pt)\n",
        "\n",
        "Let $\\hat{p}_h(x) = \\frac{1}{n h^d} \\sum\\limits_{i = 1}^{n} K\\left(\\frac{x - X_i}{h}\\right)$ is the Kernel Density Estimator (see seminar 1) of a density $p_{\\pi}$, where $X_1, \\dots, X_n \\sim p_{\\pi}$, $X_i \\in \\mathbb{R}^d$.\n",
        "\n",
        "Consider the following sampling scheme:\n",
        ">\n",
        ">1. Choose random number $k$ uniformly from the collection of numbers $\\{1, 2, \\dots, n\\}$.\n",
        ">\n",
        ">2. Sample the random variable $\\tilde{X}$ from the kernel $\\frac{1}{h^d} K\\left(\\frac{x - X_k}{h}\\right)$.\n",
        ">\n",
        "\n",
        "Prove, that $\\tilde{X}$ is distributed according to $\\hat{p}_h(x)$, i.e. the scheme above is the correct sampling scheme for $\\hat{p}_h(x)$."
      ]
    },
    {
      "cell_type": "markdown",
      "metadata": {
        "id": "P0HFuytJPQ7o"
      },
      "source": [
        "```\n",
        "your solution for problem 1\n",
        "```"
      ]
    },
    {
      "cell_type": "code",
      "source": [
        "import matplotlib.pyplot as plt\n",
        "\n",
        "def K_GAUS(x, h):\n",
        "  random_1 = np.random.rand()\n",
        "  random_2 = np.random.rand()\n",
        "  return x + (np.sqrt(-2 * np.log(random_1)) * np.sin(2 * np.pi * random_2) * h)\n",
        "\n",
        "N = 5\n",
        "# X = [1, 5, 6, 7, 9]\n",
        "X = [(1, 1), (5, 3), (6, 5), (7, 4), (9, 0)]\n",
        "h = 1\n",
        "\n",
        "sample_n = 10000\n",
        "\n",
        "def sample_data(n, d=1):\n",
        "  samples = np.zeros([n, d])\n",
        "  uni_rand = []\n",
        "  samples_k = []\n",
        "  for i in range(n):\n",
        "    samples_k.append(np.random.randint(0, N))\n",
        "\n",
        "  for j in range(d):\n",
        "    for i in range(n):\n",
        "      k = samples_k[i]\n",
        "      x = K_GAUS(X[k][j], h)\n",
        "      samples[i, j] = x\n",
        "  return samples\n",
        "\n",
        "plt.hist(sample_data(sample_n), bins=50)\n",
        "plt.show()"
      ],
      "metadata": {
        "id": "ePXa2YpHI927"
      },
      "execution_count": null,
      "outputs": []
    },
    {
      "cell_type": "code",
      "source": [
        "import matplotlib.pyplot as plt\n",
        "N = 5\n",
        "d = 2\n",
        "X = [(1, 1), (5, 3), (6, 5), (7, 4), (9, 0)]\n",
        "h = 1\n",
        "\n",
        "sample_n = 10000\n",
        "samples = sample_data(sample_n, 2)\n",
        "\n",
        "plt.scatter(samples[:, 0], samples[:, 1])\n",
        "plt.show()"
      ],
      "metadata": {
        "id": "ucG-Vvl5Wrm5"
      },
      "execution_count": null,
      "outputs": []
    },
    {
      "cell_type": "markdown",
      "metadata": {
        "id": "ivV4DY1SPEIL"
      },
      "source": [
        "### Problem 2: $\\alpha$-divergence (1pt)\n",
        "\n",
        "In the course, we will meet different divergences (not only $KL$). So let's get acquainted with the class of $\\alpha$-divergences:\n",
        "$$\n",
        "    D_{\\alpha}(p || q) = \\frac{4}{1 - \\alpha^2} \\left( 1 - \\int p(x)^{\\frac{1 + \\alpha}{2}}q(x)^{\\frac{1 - \\alpha}{2}}dx\\right).\n",
        "$$\n",
        "For each $\\alpha \\in [-\\infty; +\\infty]$ the function $D_{\\alpha} (p || q)$ is a measure of the similarity between two distributions. $D_{\\alpha} (p || q)$ has different properties for different $\\alpha$.\n",
        "\n",
        "Prove that for $\\alpha \\rightarrow 1$ the divergence $D_{\\alpha}(p || q) \\rightarrow KL(p || q)$, and for $\\alpha \\rightarrow -1$ the divergence $D_{\\alpha}(p || q) \\rightarrow KL(q || p)$.\n",
        "\n",
        "**Hint:** use the fact that $t^\\varepsilon = \\exp(\\varepsilon \\cdot \\ln t) = 1 + \\varepsilon \\cdot \\ln t + O(\\varepsilon^2)$."
      ]
    },
    {
      "cell_type": "markdown",
      "metadata": {
        "id": "x1C_RPljZ-t3"
      },
      "source": [
        "```\n",
        "your solution for problem 3\n",
        "```"
      ]
    },
    {
      "cell_type": "markdown",
      "metadata": {
        "id": "c7wm4AOrZ-t4"
      },
      "source": [
        "### Problem 3: Curse of dimensionality (2pt)\n",
        "\n",
        "The main problem of generative modelling is the curse of dimensionality. Let try to get some intuition about it.\n",
        "\n",
        "Let consider a sphere of radius $r = 1$ in a space of $m$ dimensions. Our goal is to find the fraction of the volume of the sphere that lies between radius $r = 1 - \\epsilon$ and $r = 1$. Our geometric intuition is that this fraction is small. But the magic happens with $m$ goes to infinity.\n",
        "\n",
        "1. Find the expression of the volume of a shpere of radius $r$ in $m$ dimensions.\n",
        "\n",
        "2. Find the required fraction.\n",
        "\n",
        "3. Prove that, for large $m$, the fraction tends to 1 even for small values of $\\epsilon$."
      ]
    },
    {
      "cell_type": "markdown",
      "metadata": {
        "id": "sfyWlBzOZ-t4"
      },
      "source": [
        "```\n",
        "your solution for problem 3\n",
        "```"
      ]
    },
    {
      "cell_type": "code",
      "source": [
        "device = torch.device(\"cuda:0\" if torch.cuda.is_available() else \"cpu\")"
      ],
      "metadata": {
        "id": "g-hgeiSWjbUr"
      },
      "execution_count": null,
      "outputs": []
    },
    {
      "cell_type": "code",
      "source": [
        "device = torch.device(\"cuda:0\" if torch.cuda.is_available() else \"cpu\")\n",
        "# для принудительного использования CPU\n",
        "# устройство нужно установить в 'cpu'\n",
        "\n",
        "# уменьшите d_max, если слишком много значений ratio равны 0.0\n",
        "d_max = 22\n",
        "# уменьшите n, если вам не хватает памяти\n",
        "n = 10**7\n",
        "eps = 0.1\n",
        "\n",
        "ratio = np.zeros(d_max)\n",
        "\n",
        "for d in tqdm(range(d_max, 0, -1)):\n",
        "    torch.manual_seed(0)\n",
        "    # скомбинируем большие тензорные операторы для улучшения выделения памяти\n",
        "    ratio[d - 1] = (\n",
        "        torch.sum(\n",
        "            torch.sqrt(\n",
        "                torch.sum(torch.pow(torch.rand((n, d), device=device) - 0.5, 2), dim=1)\n",
        "            )\n",
        "            <= (0.5 - eps)\n",
        "        ).item()\n",
        "        / (max((torch.sum(\n",
        "            torch.sqrt(\n",
        "                torch.sum(torch.pow(torch.rand((n, d), device=device) - 0.5, 2), dim=1)\n",
        "            )\n",
        "            <= 0.5\n",
        "        ).item()), 1))\n",
        "    )\n",
        "\n",
        "# очистка памяти\n",
        "torch.cuda.empty_cache()"
      ],
      "metadata": {
        "id": "jevgMfjWXDwx"
      },
      "execution_count": null,
      "outputs": []
    },
    {
      "cell_type": "code",
      "source": [
        "plt.plot(ratio, 'bo-', markersize=3)\n",
        "plt.grid(True)\n",
        "plt.show()"
      ],
      "metadata": {
        "id": "1vPEDnR7dO3u"
      },
      "execution_count": null,
      "outputs": []
    },
    {
      "cell_type": "markdown",
      "metadata": {
        "id": "d2LH7vKPPVUt"
      },
      "source": [
        "Now it time to move on to practical part of homework.\n",
        "\n",
        "In our course we have a small util [package](https://github.com/r-isachenko/2022-DGM-Ozon-course/blob/main/homeworks/dgm_utils/utils.py) with some usefull functions for loading and visualizing the images and training plots. In each homework there is a cell with installing this package. Please read carefully what functions we have in this package. It could help you to solve the tasks."
      ]
    },
    {
      "cell_type": "code",
      "execution_count": null,
      "metadata": {
        "id": "7wXq7VJ_SRAl"
      },
      "outputs": [],
      "source": [
        "REPO_NAME = \"2023-DGM-MIPT-course\"\n",
        "!if [ -d {REPO_NAME} ]; then rm -Rf {REPO_NAME}; fi\n",
        "!git clone https://github.com/r-isachenko/{REPO_NAME}.git\n",
        "!cd {REPO_NAME}\n",
        "!pip install ./{REPO_NAME}/homeworks/\n",
        "!rm -Rf {REPO_NAME}"
      ]
    },
    {
      "cell_type": "code",
      "execution_count": null,
      "metadata": {
        "id": "m-44Dxk6SRAp"
      },
      "outputs": [],
      "source": [
        "from dgm_utils import train_model, plot_training_curves\n",
        "from dgm_utils import show_samples, visualize_images, load_dataset"
      ]
    },
    {
      "cell_type": "code",
      "execution_count": null,
      "metadata": {
        "id": "zk6rWePvdGFv"
      },
      "outputs": [],
      "source": [
        "import os\n",
        "import numpy as np\n",
        "import matplotlib.pyplot as plt\n",
        "\n",
        "from typing import Optional\n",
        "from tqdm.notebook import tqdm\n",
        "\n",
        "import torch\n",
        "import torch.nn as nn\n",
        "import torch.nn.functional as F\n",
        "import torch.utils.data as data\n",
        "\n",
        "USE_CUDA = torch.cuda.is_available()"
      ]
    },
    {
      "cell_type": "markdown",
      "metadata": {
        "id": "KHouHarf_Hs-"
      },
      "source": [
        "## Task 2: PixelCNN receptive field and autocompletion on MNIST (4pt)\n",
        "\n",
        "[PixelCNN](https://arxiv.org/abs/1601.06759) model uses masked causal convoultions on images, we have discussed this model on the lecture 1 and seminar 2.\n",
        "\n",
        "The PixelCNN model is a powerful model. But the model has drawbacks.\n",
        "\n",
        "1. The model is sequential and sampling is really slow (it is a drawback of all AR models).\n",
        "\n",
        "2. The receptive field of the model is not so large. Even if the model is well-trained, the samples do not have long-range history.\n",
        "\n",
        "We will analyze these drawbacks.\n",
        "\n",
        "But first of all we need to train this model."
      ]
    },
    {
      "cell_type": "code",
      "execution_count": null,
      "metadata": {
        "id": "PiOBcSvx_PN8"
      },
      "outputs": [],
      "source": [
        "train_data, test_data = load_dataset(\"mnist\", flatten=False, binarize=True)\n",
        "visualize_images(train_data, \"MNIST samples\")"
      ]
    },
    {
      "cell_type": "markdown",
      "metadata": {
        "id": "elXdTtB7_6Xl"
      },
      "source": [
        "Masked Convolution Layer is the basic building block of PixelCNN model. Look carefully at this code."
      ]
    },
    {
      "cell_type": "code",
      "execution_count": null,
      "metadata": {
        "id": "ybALnsgO_PRW"
      },
      "outputs": [],
      "source": [
        "class MaskedConv2d(nn.Conv2d):\n",
        "    def __init__(\n",
        "        self, mask_type: str, in_channels: int, out_channels: int, kernel_size: int = 5\n",
        "    ) -> None:\n",
        "        assert mask_type in [\"A\", \"B\"]\n",
        "        super().__init__(\n",
        "            in_channels=in_channels,\n",
        "            out_channels=out_channels,\n",
        "            kernel_size=kernel_size,\n",
        "            padding=kernel_size // 2,\n",
        "        )\n",
        "        self.register_buffer(\"mask\", torch.zeros_like(self.weight))\n",
        "        self.create_mask(mask_type)\n",
        "\n",
        "    def forward(self, input: torch.Tensor) -> torch.Tensor:\n",
        "        return F.conv2d(input, self.weight * self.mask, self.bias, padding=self.padding)\n",
        "\n",
        "    def create_mask(self, mask_type: str) -> None:\n",
        "        # try to understand the logic about mask_type\n",
        "        k = self.kernel_size[0]\n",
        "        self.mask[:, :, : k // 2] = 1\n",
        "        self.mask[:, :, k // 2, : k // 2] = 1\n",
        "        if mask_type == \"B\":\n",
        "            self.mask[:, :, k // 2, k // 2] = 1\n",
        "\n",
        "\n",
        "def test_masked_conv2d():\n",
        "    layer = MaskedConv2d(\"A\", 2, 2)\n",
        "    assert np.allclose(layer.mask[:, :, 2, 2].numpy(), np.zeros((2, 2)))\n",
        "\n",
        "    layer = MaskedConv2d(\"B\", 2, 2)\n",
        "    assert np.allclose(layer.mask[:, :, 2, 2].numpy(), np.ones((2, 2)))\n",
        "\n",
        "\n",
        "test_masked_conv2d()"
      ]
    },
    {
      "cell_type": "markdown",
      "metadata": {
        "id": "lPw0osOrAJFm"
      },
      "source": [
        "[Layer Normalization](https://arxiv.org/abs/1607.06450) helps to stabilize training process."
      ]
    },
    {
      "cell_type": "code",
      "execution_count": null,
      "metadata": {
        "id": "npUNrimpAGUZ"
      },
      "outputs": [],
      "source": [
        "class LayerNorm(nn.LayerNorm):\n",
        "    def __init__(self, n_filters: int) -> None:\n",
        "        super().__init__(n_filters)\n",
        "\n",
        "    def forward(self, x: torch.Tensor) -> torch.Tensor:\n",
        "        x = x.permute(0, 2, 3, 1).contiguous()\n",
        "        x = super().forward(x)\n",
        "        return x.permute(0, 3, 1, 2).contiguous()"
      ]
    },
    {
      "cell_type": "markdown",
      "metadata": {
        "id": "11_PstPkAXig"
      },
      "source": [
        "Now we are ready to define the main PixelCNN model."
      ]
    },
    {
      "cell_type": "code",
      "execution_count": null,
      "metadata": {
        "id": "xC6E-hrHALYf"
      },
      "outputs": [],
      "source": [
        "class PixelCNN(nn.Module):\n",
        "    def __init__(\n",
        "        self,\n",
        "        input_shape: tuple[int],\n",
        "        n_filters: int = 64,\n",
        "        kernel_size: int = 7,\n",
        "        n_layers: int = 5,\n",
        "        use_layer_norm: bool = True,\n",
        "    ) -> None:\n",
        "\n",
        "        super().__init__()\n",
        "        self.input_shape = input_shape\n",
        "\n",
        "        # we apply the sequence of MaskedConv2d -> LayerNorm (it is optional) -> ReLU\n",
        "        # the last layer should be MaskedConv2d (not ReLU)\n",
        "        # Note 1: the first conv layer should be of type 'A'\n",
        "        # Note 2: final output_dim in MaskedConv2d must be 2\n",
        "        model = [MaskedConv2d(\"A\", 1, n_filters, kernel_size=kernel_size)]\n",
        "\n",
        "        for _ in range(n_layers):\n",
        "            if use_layer_norm:\n",
        "                model.append(LayerNorm(n_filters))\n",
        "            model.append(nn.ReLU())\n",
        "            model.append(\n",
        "                MaskedConv2d(\"B\", n_filters, n_filters, kernel_size=kernel_size)\n",
        "            )\n",
        "\n",
        "        model.extend(\n",
        "            [\n",
        "                nn.ReLU(),\n",
        "                MaskedConv2d(\"B\", in_channels=n_filters, out_channels=2, kernel_size=1),\n",
        "            ]\n",
        "        )\n",
        "\n",
        "        self.net = nn.Sequential(*model)\n",
        "\n",
        "    @property\n",
        "    def device(self):\n",
        "        return next(self.parameters()).device\n",
        "\n",
        "    def forward(self, x: torch.Tensor) -> torch.Tensor:\n",
        "        batch_size = x.shape[0]\n",
        "        out = (x.float() - 0.5) / 0.5\n",
        "        out = self.net(out)\n",
        "        return out.view(batch_size, 2, 1, *self.input_shape)\n",
        "\n",
        "    def loss(self, x: torch.Tensor) -> dict:\n",
        "        # our loss is just cross entropy\n",
        "        total_loss = F.cross_entropy(self(x), x.long())\n",
        "        return {\"total_loss\": total_loss}\n",
        "\n",
        "    @torch.no_grad()\n",
        "    def sample(self, n: int) -> np.ndarray:\n",
        "        # read carefully the sampling process\n",
        "        # here you see the sequential process of sampling\n",
        "        samples = torch.zeros(n, 1, *self.input_shape).to(self.device)\n",
        "        for r in range(self.input_shape[0]):\n",
        "            for c in range(self.input_shape[1]):\n",
        "                logits = self(samples)[:, :, :, r, c]\n",
        "                probs = F.softmax(logits, dim=1).squeeze(-1)\n",
        "                samples[:, 0, r, c] = torch.multinomial(probs, num_samples=1).squeeze(\n",
        "                    -1\n",
        "                )\n",
        "        return samples.cpu().numpy()"
      ]
    },
    {
      "cell_type": "code",
      "source": [
        "# ====\n",
        "# your code\n",
        "# choose these parameters\n",
        "# (here you could see the tips for the hyperparameters, they could help you,\n",
        "# but sometimes you could find more appropriate values,\n",
        "# experiment with them.)\n",
        "EPOCHS = 5      # > 5\n",
        "BATCH_SIZE = 20  # any adequate value\n",
        "LR = 1e-2         # < 1e-2\n",
        "N_LAYERS = 10    # < 10\n",
        "N_FILTERS = 128   # < 128\n",
        "USE_LAYER_NORM = True\n",
        "# ====\n",
        "\n",
        "train_loader = data.DataLoader(train_data, batch_size=BATCH_SIZE, shuffle=True)\n",
        "test_loader = data.DataLoader(test_data, batch_size=BATCH_SIZE)"
      ],
      "metadata": {
        "id": "hslbulGTIB55"
      },
      "execution_count": null,
      "outputs": []
    },
    {
      "cell_type": "code",
      "execution_count": null,
      "metadata": {
        "id": "9FI5foNQBlr5"
      },
      "outputs": [],
      "source": [
        "model = PixelCNN(\n",
        "    input_shape=(28, 28),\n",
        "    n_filters=N_FILTERS,\n",
        "    kernel_size=5,\n",
        "    n_layers=N_LAYERS,\n",
        "    use_layer_norm=USE_LAYER_NORM,\n",
        ")\n",
        "\n",
        "loss = model.loss(torch.zeros(1, 1, 28, 28))\n",
        "assert isinstance(loss, dict)\n",
        "assert \"total_loss\" in loss\n",
        "\n",
        "train_losses, test_losses = train_model(\n",
        "    model,\n",
        "    train_loader,\n",
        "    test_loader,\n",
        "    epochs=EPOCHS,\n",
        "    lr=LR,\n",
        "    use_tqdm=True,\n",
        "    use_cuda=USE_CUDA,\n",
        ")\n",
        "\n",
        "test_loss = test_losses[\"total_loss\"][-1]\n",
        "print(\n",
        "    f\"Test loss: {test_loss:.2f}\",\n",
        ")\n",
        "assert test_loss < 0.10"
      ]
    },
    {
      "cell_type": "markdown",
      "metadata": {
        "id": "oLR1d8HICihS"
      },
      "source": [
        "Even if the test loss is bigger than the value in assert, try to visualize train/test curves, it could find you to find the bug."
      ]
    },
    {
      "cell_type": "code",
      "execution_count": null,
      "metadata": {
        "id": "RIiyqsSRCZXs"
      },
      "outputs": [],
      "source": [
        "plot_training_curves(train_losses, test_losses)"
      ]
    },
    {
      "cell_type": "markdown",
      "metadata": {
        "id": "bdMY__h8CwE5"
      },
      "source": [
        "Now we sample the new images from the model. Notice that the sampling from the autoregressive model is slow, because it is a sequential process."
      ]
    },
    {
      "cell_type": "code",
      "execution_count": null,
      "metadata": {
        "id": "skwg5JlRCt0s"
      },
      "outputs": [],
      "source": [
        "samples = model.sample(25)\n",
        "show_samples(samples, title=\"MNIST samples\", nrow=5)"
      ]
    },
    {
      "cell_type": "markdown",
      "metadata": {
        "id": "6LK1ttmcqfvW"
      },
      "source": [
        "### Receptive field\n",
        "\n",
        "Let try to visualize the receptive field of the model.\n",
        "\n",
        "We should see that the receptive field grows with increasing number of convolutional layers.\n",
        "\n",
        "The receptive field can be empirically measured by backpropagating an arbitrary loss for the output features of a specific pixel with respect to the input. We implement this idea below, and visualize the receptive field below."
      ]
    },
    {
      "cell_type": "code",
      "source": [
        "model2 = model\n",
        "tens = torch.zeros([1, 1, 28, 28], requires_grad=True).to(device)\n",
        "tens.retain_grad()\n",
        "model_out = model2(tens)\n",
        "mask = torch.zeros([1, 1, 28, 28]).to(device)\n",
        "mask[..., 14, 14] = 1\n",
        "loss = torch.multiply(model_out, mask)\n",
        "# loss = model2.loss(tens)['total_loss']\n",
        "# print(loss)\n",
        "loss.backward(gradient=loss)\n",
        "tens_grad = tens.grad\n",
        "print(tens_grad)\n",
        "binary_map = tens_grad.cpu() > 1e-8\n",
        "print(plt.imshow(binary_map[0,0,...].numpy()))"
      ],
      "metadata": {
        "id": "ChgIGVVqiIhO"
      },
      "execution_count": null,
      "outputs": []
    },
    {
      "cell_type": "code",
      "execution_count": null,
      "metadata": {
        "id": "J1ekd7rGDBTi"
      },
      "outputs": [],
      "source": [
        "def min_max_normalize(tensor):\n",
        "    min_val = torch.min(tensor)\n",
        "    max_val = torch.max(tensor)\n",
        "    return (tensor - min_val) / (max_val - min_val)\n",
        "\n",
        "def plot_receptive_field(model: object, model_name: str) -> None:\n",
        "    # ====\n",
        "    # your code\n",
        "    # 1) create tensor with zeros and set required_grad to True.\n",
        "    # 2) apply model to the tensor\n",
        "    # 3) apply backward() to the center pixel of model output\n",
        "    # 4) take the gradient with respect to input\n",
        "    # 5) binary receptive field is an indicator map in which we stay 1's if gradient more than 1e-8\n",
        "    # 6) weighted receptive field is the normalized gradient (values lies in [0, 1])x\n",
        "    x_center, y_center = 14, 14\n",
        "\n",
        "    model2 = model\n",
        "    tens = torch.zeros([1, 1, 28, 28], requires_grad=True).to(device)\n",
        "    tens.retain_grad()\n",
        "    model_out = model2(tens)\n",
        "    mask = torch.zeros([1, 1, 28, 28]).to(device)\n",
        "    mask[..., y_center, x_center] = 1\n",
        "    loss = torch.multiply(model_out, mask)\n",
        "    # loss = model2.loss(tens)['total_loss']\n",
        "    # print(loss)\n",
        "    loss.backward(gradient=loss)\n",
        "    tens_grad = tens.grad.cpu()\n",
        "    # print(tens_grad)\n",
        "    binary_map = torch.tensor((tens_grad > 1e-8), dtype=torch.float)[0, 0, ...]\n",
        "    mean, std= torch.mean(tens_grad), torch.std(tens_grad)\n",
        "    weighted_map = min_max_normalize(tens_grad)[0,0,...]\n",
        "    # plt.imshow(binary_map[0,0,...].numpy())\n",
        "\n",
        "    # ====\n",
        "\n",
        "    # we stack the maps to get RGB image\n",
        "    binary_map = np.stack([binary_map, binary_map, binary_map], axis=-1)\n",
        "    weighted_map = np.stack([weighted_map, weighted_map, weighted_map], axis=-1)\n",
        "    # print(binary_map, weighted_map)\n",
        "\n",
        "    # center point will be red\n",
        "    binary_map[x_center, y_center] = [1, 0, 0]\n",
        "    weighted_map[x_center, y_center] = [1, 0, 0]\n",
        "\n",
        "    fig, ax = plt.subplots(1, 2, figsize=(10, 6))\n",
        "    ax[0].imshow(weighted_map, vmin=0.0, vmax=1.0)\n",
        "    ax[1].imshow(binary_map, vmin=0.0, vmax=1.0)\n",
        "\n",
        "    ax[0].set_title(f\"Weighted receptive field for {model_name}\")\n",
        "    ax[1].set_title(f\"Binary receptive field for {model_name}\")\n",
        "\n",
        "    ax[0].axis(\"off\")\n",
        "    ax[1].axis(\"off\")\n",
        "    plt.show()"
      ]
    },
    {
      "cell_type": "code",
      "execution_count": null,
      "metadata": {
        "id": "ruOurWdFDIYP"
      },
      "outputs": [],
      "source": [
        "for n_layers in [1, 3, 5, 6]:\n",
        "    model = PixelCNN(\n",
        "        input_shape=(28, 28),\n",
        "        n_filters=32,\n",
        "        kernel_size=5,\n",
        "        n_layers=n_layers,\n",
        "        use_layer_norm=True,\n",
        "    )\n",
        "    if USE_CUDA:\n",
        "        model = model.cuda()\n",
        "    plot_receptive_field(model, model_name=f\"PixelCNN {n_layers} layers\")"
      ]
    },
    {
      "cell_type": "markdown",
      "metadata": {
        "id": "Njl3VAmruh_v"
      },
      "source": [
        "You have to see that PixelCNN has strange blind spot in binary receptive field plot on the right side. This is a known issue of PixelCNN model. Please, try to understand why it happens.\n",
        "\n",
        "One way to solve this problem is a [GatedPixelCNN](https://arxiv.org/pdf/1606.05328.pdf) model (see paper, if you are interested in)."
      ]
    },
    {
      "cell_type": "markdown",
      "metadata": {
        "id": "z8eXfFdWzoVu"
      },
      "source": [
        "### Image autocompletion\n",
        "\n",
        "One more feature of autoregressive model that we try is auto-completing an image. As autoregressive models predict pixels one by one, we can set the first pixels to predefined values and check how the model completes the image.\n",
        "\n",
        "For implementing this, we just need to skip the iterations in the sampling loop that already have a value unequals to -1.\n",
        "We redefine the sample method in our PixelCNN class to allow it to take the init of the sample."
      ]
    },
    {
      "cell_type": "code",
      "execution_count": null,
      "metadata": {
        "id": "2X24nc_eqET-"
      },
      "outputs": [],
      "source": [
        "class PixelCNNAutoComplete(PixelCNN):\n",
        "    @torch.no_grad()\n",
        "    def sample(self, n: int, init: Optional[torch.Tensor] = None) -> np.ndarray:\n",
        "        # ====\n",
        "        # your code\n",
        "        # this method almost the same as the method of the base PixelCNN model\n",
        "        # but now if init is given, this tensor will be used as a starting image.\n",
        "        # The pixels to fill should be -1 in the input tensor.\n",
        "\n",
        "        if init != None:\n",
        "          samples = init.clone()\n",
        "          samples.to(self.device)\n",
        "          print(init.shape)\n",
        "          for r in range(self.input_shape[0]):\n",
        "              for c in range(self.input_shape[1]):\n",
        "                # print(init[:, :, r, c])\n",
        "                if -1 in init[:, :, r, c]:\n",
        "                  logits = self(samples)[:, :, :, r, c]\n",
        "                  probs = F.softmax(logits, dim=1).squeeze(-1)\n",
        "                  samples[:, 0, r, c] = torch.multinomial(probs, num_samples=1).squeeze(\n",
        "                      -1\n",
        "                  )\n",
        "        else:\n",
        "          samples = torch.zeros(n, 1, *self.input_shape).to(self.device)\n",
        "          for r in range(self.input_shape[0]):\n",
        "              for c in range(self.input_shape[1]):\n",
        "                  logits = self(samples)[:, :, :, r, c]\n",
        "                  probs = F.softmax(logits, dim=1).squeeze(-1)\n",
        "                  samples[:, 0, r, c] = torch.multinomial(probs, num_samples=1).squeeze(\n",
        "                      -1\n",
        "                  )\n",
        "          # ====\n",
        "        return samples.cpu().numpy()"
      ]
    },
    {
      "cell_type": "markdown",
      "metadata": {
        "id": "l6x2bX4Z0w5E"
      },
      "source": [
        "You have to repeat the model training."
      ]
    },
    {
      "cell_type": "code",
      "execution_count": null,
      "metadata": {
        "id": "qFdMAilywnI-"
      },
      "outputs": [],
      "source": [
        "model = PixelCNNAutoComplete(\n",
        "    input_shape=(28, 28),\n",
        "    n_filters=N_FILTERS,\n",
        "    kernel_size=5,\n",
        "    n_layers=N_LAYERS,\n",
        "    use_layer_norm=USE_LAYER_NORM,\n",
        ")\n",
        "\n",
        "train_losses, test_losses = train_model(\n",
        "    model,\n",
        "    train_loader,\n",
        "    test_loader,\n",
        "    epochs=EPOCHS,\n",
        "    lr=LR,\n",
        "    use_tqdm=True,\n",
        "    use_cuda=USE_CUDA,\n",
        ")\n",
        "\n",
        "assert test_losses[\"total_loss\"][-1] < 0.10"
      ]
    },
    {
      "cell_type": "markdown",
      "metadata": {
        "id": "Rd9rpg2I0paF"
      },
      "source": [
        "We randomly take images from the training set, mask the lower half of the image (set -1's), and let the model autocomplete it. We do this several times for each image to see the diversity of samples."
      ]
    },
    {
      "cell_type": "code",
      "execution_count": null,
      "metadata": {
        "id": "yR0zivWlwsYR"
      },
      "outputs": [],
      "source": [
        "def autocomplete_image(image: np.ndarray, model: object, n_samples: int) -> None:\n",
        "    # Remove lower half of the image\n",
        "    image_init = image.copy()\n",
        "    image_init[:, image.shape[1] // 2 :, :] = -1\n",
        "    samples = np.stack([image, np.maximum(image_init, 0)])\n",
        "    show_samples(samples, title=\"Original image and input image to sampling\", nrow=2)\n",
        "    # Generate completions\n",
        "    image_init = torch.tensor(image_init)\n",
        "    image_init = (\n",
        "        image_init.unsqueeze(dim=0).expand(n_samples, -1, -1, -1).to(model.device)\n",
        "    )\n",
        "    img_generated = model.sample(n_samples, image_init)\n",
        "    show_samples(img_generated, title=\"n_samples\", nrow=4)\n",
        "\n",
        "\n",
        "for i in range(1, 4):\n",
        "    autocomplete_image(train_data[i], model, n_samples=4)"
      ]
    },
    {
      "cell_type": "markdown",
      "metadata": {
        "id": "DajrWO8YJyYB"
      },
      "source": [
        "## Task 3: ImageGPT on MNIST (5pt)\n",
        "\n",
        "In this task you will try to implement the Image Transformer net for an autoregressive generation MNIST images. See the [blog](https://openai.com/blog/image-gpt/) and [paper](https://cdn.openai.com/papers/Generative_Pretraining_from_Pixels_V2.pdf) for details."
      ]
    },
    {
      "cell_type": "markdown",
      "metadata": {
        "id": "Wz6to33lJydk"
      },
      "source": [
        "### Architecture\n",
        "\n",
        "Let describe the model architecture.\n",
        "\n",
        "Image Transformer consists of $L$ identical blocks similar to GPT-2 decoder blocks. These blocks are applied sequentially. The $l$th block receives a tensor $\\mathbf{h}^l$ with shape (batch_size, pixel_num, emb_dim) where pixel_num is a total number of pixels $(28*28)$ and emb_dim is a hyperparameter for the size of the embeddings.\n",
        "\n",
        "The tensor is transformed as follows:\n",
        "$$\n",
        "\\begin{align}\n",
        "    \\mathbf{n}^l &= \\text{layer_norm}(\\mathbf{h}^l), \\\\\n",
        "    \\mathbf{a}^l &= \\mathbf{h}^l + \\text{multihead_attention}(\\mathbf{n}^l), \\\\\n",
        "    \\mathbf{h}^{l+1} &= \\mathbf{a}^l + \\text{MLP}(\\text{layer_norm}(a^l)). \\\\\n",
        "\\end{align}\n",
        "$$\n",
        "\n",
        "We have already used LayerNorm in PixelCNN, so we do not discuss it here.\n",
        "\n",
        "Each head of the multihead attention computes an embedding\n",
        "$$\n",
        "    \\text{Attention}(\\mathbf{Q}, \\mathbf{K}, \\mathbf{V}) = \\text{softmax}(\\frac{\\mathbf{Q}\\mathbf{K}^T}{\\sqrt{d_k}}) \\mathbf{V},\n",
        "$$\n",
        "where $\\mathbf{Q}, \\mathbf{K}, \\mathbf{V}$ - query/key/value matrices obtained using Linear projection of $\\mathbf{h}^l$.\n",
        "Then embeddings across all heads are stacked and followed by a linear layer.\n",
        "\n",
        "We will use just 2 Linear layers with ReLU activation for MLP.\n",
        "\n",
        "Embedding $h^1$ (our first embedding) is a sum of a token embedding of the input batch and learned positional embedding.\n",
        "\n",
        "After the last block we will apply a LayerNorm and a lLnear layer to obtain logits of size (batch_size, pixel_num, 2)\n",
        "$$\n",
        "\\begin{align*}\n",
        "  n^L &= \\text{layer norm}(h^L) \\\\\n",
        "  \\text{logits} &= \\text{linear}(n^L)\n",
        "\\end{align*}\n",
        "$$"
      ]
    },
    {
      "cell_type": "markdown",
      "metadata": {
        "id": "bl_g0XJDX8Py"
      },
      "source": [
        "### Autoregressive property\n",
        "To make the model autoregressive we will introduce the following changes:\n",
        "\n",
        "1. We will apply the upper triangular mask to the matrix of attention logits ($\\mathbf{Q}\\mathbf{K}^T$). Masked values are made close to minus infinity so they will turn zero after softmax.\n",
        "2. During training we will add \"start of sequence\" token to the input tensor and pop the last pixel.\n",
        "\n",
        "Note: we will use raster order to identify which pixels come first (as we have done in PixelCNN). For each pixel the predicted probabality is conditioned on all the previous pixels."
      ]
    },
    {
      "cell_type": "markdown",
      "metadata": {
        "id": "wIZ52wPIPE2a"
      },
      "source": [
        "Let start with the multihead attention block."
      ]
    },
    {
      "cell_type": "code",
      "execution_count": null,
      "metadata": {
        "id": "lv9pX1eyQ09M"
      },
      "outputs": [],
      "source": [
        "class MultiheadAttention(nn.MultiheadAttention):\n",
        "    def __init__(self, embed_dim: int, num_heads: int) -> None:\n",
        "        super().__init__(embed_dim, num_heads)\n",
        "\n",
        "    def get_attention_mask(self, x: torch.Tensor) -> torch.Tensor:\n",
        "        # ====\n",
        "        # your code\n",
        "        # define attention mask, it should contain\n",
        "        # - zeros under and on the main diagonal\n",
        "        # - minus Inf above the main diagonal\n",
        "        s = int(self.embed_dim / self.num_heads)\n",
        "        attention_mask = torch.zeros([s, s])\n",
        "        for i in range(s):\n",
        "          for j in range(s):\n",
        "            if j > i:\n",
        "              attention_mask[i, j] = -torch.inf\n",
        "        # ====\n",
        "        return attention_mask\n",
        "\n",
        "    def forward(self, x: torch.Tensor) -> torch.Tensor:\n",
        "        attn_mask = self.get_attention_mask(x)\n",
        "        return super().forward(x, x, x, attn_mask=attn_mask, need_weights=False)[0]\n",
        "\n",
        "\n",
        "def test_attention_mask() -> None:\n",
        "    x = torch.zeros(2, 768, 16)  # (batch_size, pixel_num, emb_dim)\n",
        "    mask = np.array([[0.0, -np.inf], [0.0, 0.0]])\n",
        "    layer = MultiheadAttention(16, 8)\n",
        "    attention_mask = layer.get_attention_mask(x)\n",
        "    assert attention_mask.size() == (x.size(0), x.size(0))\n",
        "    assert np.allclose(attention_mask.numpy(), mask)\n",
        "    out = layer(x)\n",
        "    assert x.size() == out.size()\n",
        "\n",
        "\n",
        "test_attention_mask()"
      ]
    },
    {
      "cell_type": "markdown",
      "metadata": {
        "id": "a3DcBLp3T86-"
      },
      "source": [
        "Now we will define the base decoder block."
      ]
    },
    {
      "cell_type": "code",
      "execution_count": null,
      "metadata": {
        "id": "yBxhyjd7h3Ww"
      },
      "outputs": [],
      "source": [
        "class DecoderBlock(nn.Module):\n",
        "    def __init__(self, embed_dim: int, num_heads: int) -> None:\n",
        "        \"\"\"\n",
        "        :param embed_dim: dimension of embedding space\n",
        "        :param num_heads: number of attention heads\n",
        "        \"\"\"\n",
        "        super().__init__()\n",
        "        assert embed_dim % num_heads == 0\n",
        "\n",
        "        # ====\n",
        "        # your code\n",
        "        # define multihead attention (https://pytorch.org/docs/stable/generated/torch.nn.MultiheadAttention.html)\n",
        "        # define LayerNorm (https://pytorch.org/docs/stable/generated/torch.nn.LayerNorm.html)\n",
        "        # (here we do not use previous class for LayerNorm because we do not need to change order of tensor dimensions)\n",
        "        # define MLP - 2 linear layers with ReLU\n",
        "        # (You could choose the latent dimensionality of MLP as you like. For example, double the embed_dim)\n",
        "        self.multihead = nn.MultiheadAttention(embed_dim, num_heads)\n",
        "        self.layerNorm = nn.LayerNorm(embed_dim)\n",
        "        self.MLP = nn.Sequential(\n",
        "            nn.Linear(embed_dim, 2 * embed_dim),\n",
        "            nn.ReLU(),\n",
        "            nn.Linear(2 * embed_dim, embed_dim),\n",
        "        )\n",
        "        # ====\n",
        "\n",
        "    def forward(self, x: torch.Tensor) -> torch.Tensor:\n",
        "        # ====\n",
        "        # your code\n",
        "        # here you have to implement formulas that described above.\n",
        "        nl = self.layerNorm(x)\n",
        "        m = self.multihead(nl, nl, nl)[0]\n",
        "        al = x + m\n",
        "        out = al + self.MLP(al)\n",
        "        # ====\n",
        "        return out\n",
        "\n",
        "\n",
        "def test_decoder_block() -> None:\n",
        "    block = DecoderBlock(embed_dim=12, num_heads=4)\n",
        "    x = torch.zeros(4, 28, 12)\n",
        "    assert x.shape == block(x).shape\n",
        "\n",
        "\n",
        "test_decoder_block()"
      ]
    },
    {
      "cell_type": "code",
      "execution_count": null,
      "metadata": {
        "id": "2yXwW9fvVJN1"
      },
      "outputs": [],
      "source": [
        "class ImageGPT(nn.Module):\n",
        "    def __init__(\n",
        "        self, input_shape: tuple[int], embed_dim: int, num_heads: int, num_layers: int\n",
        "    ) -> None:\n",
        "        super().__init__()\n",
        "\n",
        "        self.embed_dim = embed_dim\n",
        "        self.input_shape = input_shape\n",
        "        # self.criterion = nn.CrossEntropyLoss()\n",
        "        self.criterion = nn.BCEWithLogitsLoss()\n",
        "\n",
        "        # \"start of sequence\" token (we initialize it from Normal distribution)\n",
        "        self.sos = torch.nn.Parameter(torch.zeros(embed_dim))\n",
        "        nn.init.normal_(self.sos)\n",
        "\n",
        "        # ====\n",
        "        # your code\n",
        "        # 1) define token_embeddings\n",
        "        #    (we will have 2 embeddings in total, because our images are binary)\n",
        "        # 2) define position_embeddings (they will be learnable)\n",
        "        self.token_embeddings = nn.Embedding(2, embed_dim, _freeze=True)\n",
        "        self.position_embeddings = nn.Embedding(28*28, embed_dim)\n",
        "        # ====\n",
        "\n",
        "        # ====\n",
        "        # your code\n",
        "        # 1) add decoder blocks to self.layers list\n",
        "        # 2) define last LayerNorm\n",
        "        # 3) define final Linear layer (without bias)\n",
        "        self.layers = nn.ModuleList([\n",
        "            DecoderBlock(embed_dim, num_heads) for _ in range(num_layers)\n",
        "        ])\n",
        "        self.final_ln = nn.LayerNorm(embed_dim)\n",
        "        self.final_linear = nn.Linear(embed_dim, 1, bias=False)\n",
        "        # ====\n",
        "\n",
        "    @property\n",
        "    def device(self):\n",
        "        return next(self.parameters()).device\n",
        "\n",
        "    def add_sos_token(self, embeddings: torch.Tensor) -> torch.Tensor:\n",
        "        batch_size = embeddings.size(1)\n",
        "        # ====\n",
        "        # your code\n",
        "        # prepend sos (start of sequence) token\n",
        "        # 1) repeat sos token batch_size times (make it of size (1, batch_size, emd_size))\n",
        "        # 2) drop last embedding from embeddings\n",
        "        # 3) concat repeated sos token to embeddings (after dropping)\n",
        "        sos_token = self.sos.repeat(1, batch_size, 1)\n",
        "        embeddings = embeddings[:-1, :, :]\n",
        "        embeddings = torch.cat([sos_token, embeddings], dim=0)\n",
        "        # ====\n",
        "        return embeddings\n",
        "\n",
        "    def add_pos_embeddings(self, embeddings: torch.Tensor) -> torch.Tensor:\n",
        "        length = embeddings.size(0)\n",
        "        # ====\n",
        "        # your code\n",
        "        # add positional embeddings\n",
        "        # 1) define tensor with positions (just torch.arange) of size (length, 1)\n",
        "        # 2) add position embeddings to initial embeddings\n",
        "        positions = torch.arange(length, device=self.device)\n",
        "        pos_emb = self.position_embeddings(positions)\n",
        "        pos_emb = pos_emb.view(pos_emb.size(0), 1, pos_emb.size(1))\n",
        "        embeddings = embeddings + pos_emb\n",
        "        # ====\n",
        "        return embeddings\n",
        "\n",
        "    def forward(self, x: torch.Tensor) -> torch.Tensor:\n",
        "        x = x.long()\n",
        "        x = x.reshape(x.size(0), -1)  # (batch_size, length)\n",
        "        x = x.permute(1, 0)\n",
        "\n",
        "        embeddings = self.token_embeddings(x)  # (length, batch_size, emb_size)\n",
        "        embeddings = self.add_sos_token(embeddings)\n",
        "        embeddings = self.add_pos_embeddings(embeddings)\n",
        "\n",
        "        # ====\n",
        "        # your code\n",
        "        # 1) apply all decoder layers\n",
        "        # 2) apply final LayerNorm and Linear layer\n",
        "        for layer in self.layers:\n",
        "            embeddings = layer(embeddings)\n",
        "\n",
        "        embeddings = self.final_ln(embeddings)\n",
        "        logits = self.final_linear(embeddings)\n",
        "        # ====\n",
        "\n",
        "        return logits.permute(\n",
        "            1, 0, 2\n",
        "        )  # (length, batch_size, emb_size) -> (batch_size, length, emb_size)\n",
        "\n",
        "    def loss(self, x: torch.Tensor) -> dict:\n",
        "        logits = self(x)\n",
        "        loss = self.criterion(logits.reshape(-1), x.reshape(-1).float())\n",
        "        return {\"total_loss\": loss}\n",
        "\n",
        "    @torch.no_grad()\n",
        "    def sample(self, n_samples: int) -> np.ndarray:\n",
        "        # read sampling carefully\n",
        "        seq_len = self.input_shape[0] * self.input_shape[1]\n",
        "        samples = torch.zeros(n_samples, seq_len).long().to(self.device)\n",
        "        for i in range(seq_len):\n",
        "            logits = self(samples)\n",
        "            dist = torch.distributions.Bernoulli(logits=logits[:, i, 0])\n",
        "            samples[:, i] = dist.sample()\n",
        "        samples = samples.reshape(n_samples, 1, *self.input_shape)\n",
        "        return samples.cpu().numpy()\n",
        "\n",
        "\n",
        "def test_image_gpt() -> None:\n",
        "    image_gpt = ImageGPT(input_shape=(2, 2), embed_dim=12, num_heads=4, num_layers=2)\n",
        "    x = torch.LongTensor([[0, 1, 0, 0], [0, 1, 1, 1]])\n",
        "    assert image_gpt(x).shape == torch.Size([2, 4, 1])\n",
        "    assert image_gpt.loss(x)[\"total_loss\"].requires_grad == True\n",
        "    assert image_gpt.sample(1).shape == torch.Size([1, 1, 2, 2])\n",
        "    img = torch.randint(2, size=(1, 1, 2, 2))\n",
        "\n",
        "\n",
        "test_image_gpt()"
      ]
    },
    {
      "cell_type": "markdown",
      "metadata": {
        "id": "NptSgGtRXyca"
      },
      "source": [
        "### Model training\n",
        "\n",
        "Now we are ready to train our model."
      ]
    },
    {
      "cell_type": "code",
      "source": [
        "train_data, test_data = load_dataset(\"mnist\", flatten=False, binarize=True)\n",
        "visualize_images(train_data, \"MNIST samples\")"
      ],
      "metadata": {
        "id": "ayKZyK-B3mw8"
      },
      "execution_count": null,
      "outputs": []
    },
    {
      "cell_type": "code",
      "execution_count": null,
      "metadata": {
        "id": "yXy7j5HoXJtE"
      },
      "outputs": [],
      "source": [
        "# ====\n",
        "# your code\n",
        "# choose these parameters\n",
        "# (here you could see the tips for the hyperparameters, they could help you,\n",
        "# but sometimes you could find more appropriate values,\n",
        "# experiment with them.)\n",
        "EPOCHS = 3      # <= 8\n",
        "BATCH_SIZE = 64  # <= 64\n",
        "LR = 1e-2\n",
        "\n",
        "EMB_DIM = 32     # <= 128\n",
        "NUM_HEADS = 2   # <= 8\n",
        "NUM_LAYERS = 6  # <= 6\n",
        "# ====\n",
        "\n",
        "model = ImageGPT((28, 28), EMB_DIM, NUM_HEADS, NUM_LAYERS)\n",
        "\n",
        "train_loader = data.DataLoader(train_data, batch_size=BATCH_SIZE, shuffle=True)\n",
        "test_loader = data.DataLoader(test_data, batch_size=BATCH_SIZE)\n",
        "\n",
        "train_losses, test_losses = train_model(\n",
        "    model,\n",
        "    train_loader,\n",
        "    test_loader,\n",
        "    epochs=EPOCHS,\n",
        "    lr=LR,\n",
        "    use_tqdm=True,\n",
        "    use_cuda=USE_CUDA,\n",
        ")"
      ]
    },
    {
      "cell_type": "code",
      "source": [
        "model = ImageGPT((28, 28), EMB_DIM, NUM_HEADS, NUM_LAYERS)\n",
        "model.load_state_dict(torch.load('my_model.pth'))"
      ],
      "metadata": {
        "id": "e68zIUrbHiMa"
      },
      "execution_count": null,
      "outputs": []
    },
    {
      "cell_type": "code",
      "source": [
        "EPOCHS = 3\n",
        "LR = 1e-4\n",
        "train_losses, test_losses = train_model(\n",
        "    model,\n",
        "    train_loader,\n",
        "    test_loader,\n",
        "    epochs=EPOCHS,\n",
        "    lr=LR,\n",
        "    use_tqdm=True,\n",
        "    use_cuda=USE_CUDA,\n",
        ")"
      ],
      "metadata": {
        "id": "EZ9wNF3CDwQ8"
      },
      "execution_count": null,
      "outputs": []
    },
    {
      "cell_type": "code",
      "source": [
        "path = \"model_ImgGPT_autorecur.pth\"\n",
        "torch.save(model.state_dict(), path)"
      ],
      "metadata": {
        "id": "A_CbynXtCf14"
      },
      "execution_count": null,
      "outputs": []
    },
    {
      "cell_type": "code",
      "execution_count": null,
      "metadata": {
        "id": "5Udvl-csXRIL"
      },
      "outputs": [],
      "source": [
        "plot_training_curves(train_losses, test_losses)"
      ]
    },
    {
      "cell_type": "markdown",
      "metadata": {
        "id": "Hz5t-srXk2-i"
      },
      "source": [
        "Let sample from our model. You probably get better samples than PixelCNN samples."
      ]
    },
    {
      "cell_type": "code",
      "execution_count": null,
      "metadata": {
        "id": "jUC3JBReYCau"
      },
      "outputs": [],
      "source": [
        "samples = model.sample(1)\n",
        "show_samples(samples, title=\"MNIST samples\", nrow=1)"
      ]
    }
  ],
  "metadata": {
    "accelerator": "GPU",
    "colab": {
      "provenance": []
    },
    "kernelspec": {
      "display_name": "Python 3 (ipykernel)",
      "language": "python",
      "name": "python3"
    },
    "language_info": {
      "codemirror_mode": {
        "name": "ipython",
        "version": 3
      },
      "file_extension": ".py",
      "mimetype": "text/x-python",
      "name": "python",
      "nbconvert_exporter": "python",
      "pygments_lexer": "ipython3",
      "version": "3.8.9"
    },
    "vscode": {
      "interpreter": {
        "hash": "784c2e2ba9cdfc1ce1e8c565791a35aa78e810f3990b00899de93c9f5ea5b088"
      }
    }
  },
  "nbformat": 4,
  "nbformat_minor": 0
}